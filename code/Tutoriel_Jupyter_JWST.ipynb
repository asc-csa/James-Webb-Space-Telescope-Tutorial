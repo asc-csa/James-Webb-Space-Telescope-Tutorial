{
 "cells": [
  {
   "cell_type": "markdown",
   "id": "6f971b11",
   "metadata": {},
   "source": [
    "# Accès et traitement des données du télescope spatial James Webb\n",
    "\n",
    "Ce qui suit est divisé en 3 étapes.\n",
    "1) L'extraction de données :\n",
    "    Les données JWST sont initialement téléchargées sous forme de fichier .tar. Ce type de fichier doit être extrait en Python avant que\n",
    "    les données réelles puissent être utilisées\n",
    "    \n",
    "2) La création d'image :\n",
    "    À l'intérieur du .tar extrait se trouvent plusieurs fichiers .fits qui contiennent les données JWST. Ils peuvent être soit dans un tableau 2D ou un tableau 3D.\n",
    "    La technique pour accéder aux deux sera montrée dans la 6ème cellule. Le code sera capable de générer et sauvegarder l'image,\n",
    "    permettant une analyse plus poussée.\n",
    "    \n",
    "3) Le traitement :\n",
    "    Nous allons déterminer le nombre de galaxies dans l'image générée. Un objet détecté\n",
    "   sera indiqué avec un cercle rouge autour.\n",
    "   Enfin, la cellule finale montrera le nombre total d'objets détectés\n",
    "   dans l'image.\n",
    "    "
   ]
  },
  {
   "cell_type": "code",
   "execution_count": null,
   "id": "9216ccce",
   "metadata": {},
   "outputs": [],
   "source": [
    "# opening and extracting the information from a .tar file\n",
    "\n",
    "import tarfile\n",
    "# the tar file may need to be downloaded from CADCs website into the input directory\n",
    "# if you already have a fits file ready for use in the output folder, then this step is not needed\n",
    "tar = tarfile.open('input/tar_files/JWST-jw02738002002_02201_00002_nis-jw02738002002_02201_00002_nis-CALIBRATED.tar', \"r:\")\n",
    "\n",
    "tar.extractall('output\\extracted_tar')\n",
    "tar.close()"
   ]
  },
  {
   "cell_type": "code",
   "execution_count": null,
   "id": "315d46ae",
   "metadata": {},
   "outputs": [],
   "source": [
    "#Another option if you know exactly which file you wish to download is to go on CADC and in the metadata, find the files URI\n",
    "# and plug it into the cadcget below.\n",
    "\n",
    "from cadcdata import StorageInventoryClient\n",
    "client = StorageInventoryClient()\n",
    "client.cadcget('cadc:MOST/268_GSC0168801944_2014_gs.fits','268_GSC0168801944_2014_gs.fits') #this takes the chosen fits file and\n",
    "                                                                                            # download it to your computer"
   ]
  },
  {
   "cell_type": "code",
   "execution_count": null,
   "id": "2b54780d",
   "metadata": {},
   "outputs": [],
   "source": [
    "#You can also use astro querry to filter fits files similar to the CADC website.\n",
    "# This will give you a list of all the different fits files that match your filter which you can then download using the URL.\n",
    "from astroquery.cadc import Cadc\n",
    "cadc = Cadc()\n",
    "results = cadc.query_name('NGC253') # filter by target name\n",
    "results = results[results['collection']=='JWST']# filter by archive \n",
    "results = results[results['dataRelease'] > '2022-10-29T00:00:00.000'] # filter by release date\n",
    "Download_urls = cadc.get_data_urls(results)"
   ]
  },
  {
   "cell_type": "code",
   "execution_count": null,
   "id": "1d6929a1",
   "metadata": {},
   "outputs": [],
   "source": [
    "#lastly, you can also automate the downloading process by following steps below.\n",
    "numberOfFiles = 5\n",
    "for urls in np.arange(0,numberOfFiles,1):\n",
    "    r = requests.get(w[urls])\n",
    "    open('test_fits/file_'+str(urls)+'.fits','wb').write(r.content)"
   ]
  },
  {
   "cell_type": "code",
   "execution_count": null,
   "id": "49d46750",
   "metadata": {},
   "outputs": [],
   "source": [
    "# Below shows the steps to accessing a certain fits files and opening it\n",
    "import matplotlib.pyplot as plt\n",
    "from astropy.visualization import astropy_mpl_style\n",
    "plt.style.use(astropy_mpl_style)\n",
    "\n",
    "\n",
    "from astropy.utils.data import get_pkg_data_filename\n",
    "from astropy.io import fits\n",
    "\n",
    "#call in the file and extract in image\n",
    "file_name = 'output/extracted_tar/JWST/product/jw01521-o001_t001_miri_f770w_segm.fits'  #specify your path and fits file here\n",
    "image_file = get_pkg_data_filename(file_name)\n",
    "image_data = fits.getdata(image_file, ext=1)\n",
    "\n",
    "plt.axis ('off')\n",
    "# The data can be in the form of a 2D or 3D array\n",
    "\n",
    "#plt.imshow(image_data[0,:,:],origin = 'lower' ,cmap='gray')  # 3D version\n",
    "plt.imshow(image_data,cmap='gray')  # 2D version\n",
    "\n",
    "#creating a saving the image\n",
    "image_name = 'created_image.png'\n",
    "fig1 = plt.gcf()\n",
    "plt.imsave('output/images/'+ image_name ,image_data,cmap = 'Greys_r')"
   ]
  },
  {
   "cell_type": "code",
   "execution_count": null,
   "id": "9acc0fc8",
   "metadata": {},
   "outputs": [],
   "source": [
    "%matplotlib inline\n",
    "\n",
    "#below shows a potential processing step. For this example, we will be determining the number of galaxies in an image.\n",
    "\n",
    "from imutils import contours\n",
    "from skimage import measure\n",
    "import numpy as np\n",
    "import imutils\n",
    "import cv2\n",
    "import matplotlib.pyplot as plt\n",
    "\n",
    "print('Computing the number of galaxies...')\n",
    "image = cv2.imread('output/images/created_image.png')  #add in your path and specify the image (e.g. four-stars-one-galaxy.png)\n",
    "gray = cv2.cvtColor(image, cv2.COLOR_BGR2GRAY)\n",
    "blurred = cv2.GaussianBlur(gray, (11, 11), 0)\n",
    "\n",
    "# threshold the image to reveal light regions in the blurred image\n",
    "thresh = cv2.threshold(blurred, 100, 1000, cv2.THRESH_BINARY)[1]\n",
    "\n",
    "# use the threshold variable to create a mask that stores only the \"bright\" spots using a connected component analysis\n",
    "labeled = measure.label(thresh,  background=0)\n",
    "bright_mask = np.zeros(thresh.shape, dtype=\"uint8\")\n",
    "\n",
    "# loop over the unique components\n",
    "for label in np.unique(labeled):\n",
    "    \n",
    "\t# if this is the background label, ignore it\n",
    "\tif label == 0:\n",
    "\t\tcontinue\n",
    "        \n",
    "    #create the label mask and determine the number of pixels in the object\n",
    "\tlabelMask = np.zeros(thresh.shape, dtype=\"uint8\")\n",
    "\tlabelMask[labeled == label] = 255\n",
    "\tnumberOFPixels = cv2.countNonZero(labelMask)\n",
    "    \n",
    "    # check if the number of pixels is sufficient and add to the main mask\n",
    "\tif numberOFPixels > 25:\n",
    "\t\tbright_mask = cv2.add(bright_mask, labelMask)\n",
    "        \n",
    "# Look at the contours and sort them\n",
    "cnts = cv2.findContours(bright_mask.copy(), cv2.RETR_EXTERNAL, cv2.CHAIN_APPROX_SIMPLE)\n",
    "cnts = imutils.grab_contours(cnts)\n",
    "cnts = contours.sort_contours(cnts)[0]\n",
    "\n",
    "counter = 0 # used to determine the total number of contours \n",
    "# loop over the contours\n",
    "for (i, c) in enumerate(cnts):\n",
    "    \n",
    "\t# draw the bright spot on the image\n",
    "\t(x, y, w, h) = cv2.boundingRect(c)\n",
    "\t((cX, cY), radius) = cv2.minEnclosingCircle(c)\n",
    "\tcv2.circle(image, (int(cX), int(cY)), int(radius),\n",
    "\t\t(0, 255, 0), 3)\n",
    "\tcounter = counter + 1\n",
    "\n",
    "# show the output image\n",
    "plt.imshow(cv2.cvtColor(image,cv2.COLOR_BGR2RGB))\n",
    "plt.axis ('off')\n",
    "plt.show()"
   ]
  },
  {
   "cell_type": "code",
   "execution_count": null,
   "id": "06f8798e",
   "metadata": {},
   "outputs": [],
   "source": [
    "print('The total number of detected galaxies is ' + str(counter))"
   ]
  },
  {
   "cell_type": "code",
   "execution_count": null,
   "id": "135dbad1",
   "metadata": {},
   "outputs": [],
   "source": []
  }
 ],
 "metadata": {
  "kernelspec": {
   "display_name": "Python 3",
   "language": "python",
   "name": "python3"
  },
  "language_info": {
   "codemirror_mode": {
    "name": "ipython",
    "version": 3
   },
   "file_extension": ".py",
   "mimetype": "text/x-python",
   "name": "python",
   "nbconvert_exporter": "python",
   "pygments_lexer": "ipython3",
   "version": "3.8.5"
  }
 },
 "nbformat": 4,
 "nbformat_minor": 4
}